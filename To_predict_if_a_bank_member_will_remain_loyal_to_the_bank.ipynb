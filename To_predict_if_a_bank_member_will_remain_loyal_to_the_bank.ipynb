{
  "nbformat": 4,
  "nbformat_minor": 0,
  "metadata": {
    "colab": {
      "name": "To predict if a bank member will remain loyal to the bank",
      "provenance": [],
      "collapsed_sections": [],
      "authorship_tag": "ABX9TyOC3PC/BnxZGR3WVy9AkaIc",
      "include_colab_link": true
    },
    "kernelspec": {
      "name": "python3",
      "display_name": "Python 3"
    },
    "language_info": {
      "name": "python"
    }
  },
  "cells": [
    {
      "cell_type": "markdown",
      "metadata": {
        "id": "view-in-github",
        "colab_type": "text"
      },
      "source": [
        "<a href=\"https://colab.research.google.com/github/sumukhasrivatsa/Coursera-Tasks/blob/master/To_predict_if_a_bank_member_will_remain_loyal_to_the_bank.ipynb\" target=\"_parent\"><img src=\"https://colab.research.google.com/assets/colab-badge.svg\" alt=\"Open In Colab\"/></a>"
      ]
    },
    {
      "cell_type": "code",
      "metadata": {
        "colab": {
          "base_uri": "https://localhost:8080/",
          "height": 682
        },
        "id": "rqnjy3OR_Ex4",
        "outputId": "a025c9e1-4793-46c0-bec1-40b0076ba744"
      },
      "source": [
        "from re import X\n",
        "import numpy as np\n",
        "import matplotlib.pyplot as plt\n",
        "import pandas as pd\n",
        "\n",
        "\n",
        "dataset=pd.read_csv('/content/Churn_Modelling.csv')\n",
        "x_variable=dataset.iloc[:,3:13]\n",
        "y_variable=dataset.iloc[:,13]\n",
        "x_variable\n",
        "\n",
        "geography=pd.get_dummies(dataset['Geography'],drop_first=True)\n",
        "gender=pd.get_dummies(dataset['Gender'],drop_first=True)\n",
        "\n",
        "new=pd.concat([x_variable,geography,gender],axis=1)\n",
        "new=new.drop(['Geography','Gender'],axis=1)\n",
        "new\n",
        "\n",
        "from sklearn.model_selection import train_test_split\n",
        "X_train,X_test,y_train,y_test=train_test_split(new,y_variable, test_size = 0.2, random_state = 0)\n",
        "\n",
        "#feature scaling \n",
        "from sklearn.preprocessing import StandardScaler\n",
        "scaler = StandardScaler()\n",
        "X_train=scaler.fit_transform(X_train)\n",
        "pd.DataFrame(X_train)\n",
        "X_test=scaler.fit_transform(X_test)\n",
        "\n",
        "import keras\n",
        "from keras.models import Sequential\n",
        "from keras.layers import Dense\n",
        "from keras.layers import LeakyReLU,PReLU,ELU\n",
        "from keras.layers import Dropout\n",
        "\n",
        "\n",
        "classifier=Sequential()\n",
        "classifier.add(Dense(units=6, kernel_initializer='he_uniform',activation='relu',input_dim = 11))\n",
        "classifier.add(Dense(units=6, kernel_initializer='he_uniform',activation='relu'))\n",
        "classifier.add(Dense(units=1, kernel_initializer='glorot_uniform',activation='sigmoid'))\n",
        "\n",
        "classifier.compile(optimizer = 'Adamax', loss = 'binary_crossentropy', metrics = ['accuracy'])\n",
        "model=classifier.fit(X_train,y_train,validation_split=0.33,batch_size=10,epochs=10)\n",
        "print(model.history.keys())\n",
        "\n",
        "plt.plot(model.history['accuracy'])\n",
        "plt.plot(model.history['val_accuracy'])\n",
        "plt.title('model accuracy')\n",
        "plt.ylabel('accuracy')\n",
        "plt.xlabel('epoch')\n",
        "plt.legend(['train', 'test'], loc='upper left')\n",
        "plt.show()\n",
        "\n",
        "\n",
        "\n",
        "y_predicted=classifier.predict(X_test)\n",
        "y_predicted = (y_predicted>0.5)\n",
        "\n",
        "from sklearn.metrics import accuracy_score\n",
        "accuracyscore=accuracy_score(y_predicted,y_test)\n",
        "print(accuracyscore)"
      ],
      "execution_count": 51,
      "outputs": [
        {
          "output_type": "stream",
          "text": [
            "Epoch 1/10\n",
            "536/536 [==============================] - 4s 3ms/step - loss: 0.6226 - accuracy: 0.7050 - val_loss: 0.5333 - val_accuracy: 0.7955\n",
            "Epoch 2/10\n",
            "536/536 [==============================] - 1s 2ms/step - loss: 0.5347 - accuracy: 0.7883 - val_loss: 0.4957 - val_accuracy: 0.7955\n",
            "Epoch 3/10\n",
            "536/536 [==============================] - 1s 2ms/step - loss: 0.4828 - accuracy: 0.7992 - val_loss: 0.4750 - val_accuracy: 0.7955\n",
            "Epoch 4/10\n",
            "536/536 [==============================] - 1s 2ms/step - loss: 0.4708 - accuracy: 0.7933 - val_loss: 0.4609 - val_accuracy: 0.7952\n",
            "Epoch 5/10\n",
            "536/536 [==============================] - 1s 2ms/step - loss: 0.4646 - accuracy: 0.7882 - val_loss: 0.4508 - val_accuracy: 0.8023\n",
            "Epoch 6/10\n",
            "536/536 [==============================] - 1s 2ms/step - loss: 0.4607 - accuracy: 0.8000 - val_loss: 0.4426 - val_accuracy: 0.8092\n",
            "Epoch 7/10\n",
            "536/536 [==============================] - 1s 2ms/step - loss: 0.4564 - accuracy: 0.8035 - val_loss: 0.4358 - val_accuracy: 0.8122\n",
            "Epoch 8/10\n",
            "536/536 [==============================] - 1s 2ms/step - loss: 0.4235 - accuracy: 0.8204 - val_loss: 0.4303 - val_accuracy: 0.8175\n",
            "Epoch 9/10\n",
            "536/536 [==============================] - 1s 2ms/step - loss: 0.4221 - accuracy: 0.8234 - val_loss: 0.4259 - val_accuracy: 0.8179\n",
            "Epoch 10/10\n",
            "536/536 [==============================] - 1s 2ms/step - loss: 0.4129 - accuracy: 0.8277 - val_loss: 0.4227 - val_accuracy: 0.8183\n",
            "dict_keys(['loss', 'accuracy', 'val_loss', 'val_accuracy'])\n"
          ],
          "name": "stdout"
        },
        {
          "output_type": "display_data",
          "data": {
            "image/png": "[encoded data removed]",
            "text/plain": [
              "<Figure size 432x288 with 1 Axes>"
            ]
          },
          "metadata": {
            "tags": [],
            "needs_background": "light"
          }
        },
        {
          "output_type": "stream",
          "text": [
            "0.8275\n"
          ],
          "name": "stdout"
        }
      ]
    }
  ]
}